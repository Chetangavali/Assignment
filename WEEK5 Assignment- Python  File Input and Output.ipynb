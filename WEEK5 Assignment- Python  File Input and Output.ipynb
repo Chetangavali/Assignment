{
 "cells": [
  {
   "cell_type": "markdown",
   "id": "8ab1612f",
   "metadata": {},
   "source": [
    "## WEEK5 Assignment- Python  File Input and Output"
   ]
  },
  {
   "cell_type": "markdown",
   "id": "03f2d3d6",
   "metadata": {},
   "source": [
    "```\n",
    "Q.1 Problem Statements:\n",
    "Create a python program for taking user notes in text file. When a user starts it up, it should prompt them for a filename.\n",
    "If they enter a file name that doesn't exist, it should prompt them to enter the text they want to write to the file.\n",
    "After they enter the text, it should save the file and exit.If they enter a file name that already exists, \n",
    "it should ask the user if they want:\n",
    "A) Read the file\n",
    "B) Append the file\n",
    "C) Delete the file and start over\n",
    "\n",
    "If the user wants to read the file it should simply show the contents of the file on the screen.\n",
    "If the user wants to start over then the file should be deleted and another empty one made in its place.\n",
    "If a user elects to append the file, then they should be able to enter more text, \n",
    "and that text should be added to the existing text in the file.\n",
    "\n",
    "Note:\n",
    "    The software Development Team created partial python code for the above problem statement, you try to help them to complete the code wherever required and produce successful output \n",
    "```"
   ]
  },
  {
   "cell_type": "markdown",
   "id": "13e7322b",
   "metadata": {},
   "source": [
    "# Week-5 Assignment completed by Chetan Gavali"
   ]
  },
  {
   "cell_type": "code",
   "execution_count": 1,
   "id": "abb6eca2",
   "metadata": {},
   "outputs": [
    {
     "name": "stdout",
     "output_type": "stream",
     "text": [
      "Enter The File Namenew.txt\n",
      "Looking for file:new.txt\n",
      "Found it\n",
      "Enter the possible file operation: read, append, delete, replace\n",
      "read\n",
      "gagcxbcahdejjdeq\n",
      "\n",
      "gjgahkjajdeqegwfgwegf\n",
      "\n"
     ]
    }
   ],
   "source": [
    "import os\n",
    "filename=input(\"Enter The File Name\")\n",
    "# Here we check if the file exists\n",
    "if os.path.isfile('./'+filename):\n",
    "    print(f\"Looking for file:{filename}\")\n",
    "    print(\"Found it\")\n",
    "    action = input(\"Enter the possible file operation: read, append, delete, replace\\n\")\n",
    "    if action==\"read\":\n",
    "        \"\"\"To Do : write the code for file read operation\"\"\"\n",
    "        with open(filename,\"r\") as list:\n",
    "            for x in list:\n",
    "                print(x)\n",
    "            list.close()\n",
    "    elif action==\"append\":\n",
    "        \"\"\"To Do : write the code for file append operation\"\"\"\n",
    "        with open(filename,\"a\") as list:\n",
    "            n=input(\"Enter number of lines you want to add :\")\n",
    "            for _ in range(int(n)):\n",
    "                list.write(input()+\"\\n\")\n",
    "        \n",
    "            list.close()\n",
    "    elif action == \"delete\":\n",
    "        \"\"\"To Do : write the code for file dalete and another empty one made in its place operation\"\"\"\n",
    "        os.remove(filename)\n",
    "        f = open(filename, \"x\")\n",
    "        f.close()\n",
    "    else:\n",
    "        print(\"Sorry, unrecognized action 😢\")\n",
    "else:\n",
    "    print(\"Nope, this file does not exist, I'm going to create it for you! 😄\")\n",
    "    \"\"\"To Do : write the code for file create and write the notes \"\"\"\n",
    "    f = open(filename, \"x\")\n",
    "    f.close()"
   ]
  },
  {
   "cell_type": "markdown",
   "id": "3f5280fc",
   "metadata": {},
   "source": []
  },
  {
   "cell_type": "markdown",
   "id": "3770112e",
   "metadata": {},
   "source": [
    "```\n",
    "Q2.Text File Analytics:\n",
    "Q2.1 Assume you as Data Analyst, you need to collect all text file name from current working directory and store the all text file name into \n",
    "    \"txtfile_namelist.txt\" and read this file and print How many files are available in that namelist.\n",
    "```"
   ]
  },
  {
   "cell_type": "code",
   "execution_count": 5,
   "id": "613c4b08",
   "metadata": {},
   "outputs": [
    {
     "name": "stdout",
     "output_type": "stream",
     "text": [
      "Number of text Files : 8\n"
     ]
    }
   ],
   "source": [
    "import os\n",
    "count=0\n",
    "with open(\"txtfile_namelist.txt\",\"w+\") as txt_list:\n",
    "    for files in os.listdir():\n",
    "        if files.endswith(\".txt\"):\n",
    "            txt_list.write(files+\"\\n\")\n",
    "            count+=1\n",
    "print(f\"Number of text Files : {count}\")"
   ]
  },
  {
   "cell_type": "markdown",
   "id": "21e1504b",
   "metadata": {},
   "source": [
    "```    \n",
    "Q2.2 write the following contents to zenofpython.txt\n",
    "content:\n",
    "--------------------------------------------------------------\n",
    "The Zen of Python, by Tim Peters\n",
    "Beautiful is better than ugly.\n",
    "Explicit is better than implicit.\n",
    "Simple is better than complex.\n",
    "Complex is better than complicated.\n",
    "Flat is better than nested.\n",
    "Sparse is better than dense.\n",
    "Readability counts.\n",
    "Special cases aren't special enough to break the rules.\n",
    "Although practicality beats purity.\n",
    "Errors should never pass silently.\n",
    "Unless explicitly silenced.\n",
    "In the face of ambiguity, refuse the temptation to guess.\n",
    "There should be one -- and preferably only one -- obvious way to do it.\n",
    "Although that way may not be obvious at first unless you're Dutch.\n",
    "Now is better than never.\n",
    "Although never is often better than right now.\n",
    "If the implementation is hard to explain, it's a bad idea.\n",
    "If the implementation is easy to explain, it may be a good idea.\n",
    "Namespaces are one honking great idea -- let's do more of those!\n",
    "------------------------------------------------------------------\n",
    "an perform the following Operation:\n",
    "1.print number of lines in the zenofpython.txt file\n",
    "2.print number of words in the zenofpython.txt file\n",
    "3.Print how may python keyword present in the zenofpython.txt file\n",
    "4.print the all content in uppercase\n",
    "```"
   ]
  },
  {
   "cell_type": "code",
   "execution_count": 19,
   "id": "77094c02",
   "metadata": {},
   "outputs": [
    {
     "name": "stdout",
     "output_type": "stream",
     "text": [
      "Number of lines in file : 20\n"
     ]
    }
   ],
   "source": [
    "f = open(\"zenofpython.txt\", \"r\")\n",
    "count=0\n",
    "for x in f:\n",
    "  count+=1\n",
    "print(f\"Number of lines in file : {count}\")"
   ]
  },
  {
   "cell_type": "code",
   "execution_count": 2,
   "id": "ebe4817d",
   "metadata": {},
   "outputs": [],
   "source": [
    "import keyword\n",
    "s = keyword.kwlist\n"
   ]
  },
  {
   "cell_type": "code",
   "execution_count": 3,
   "id": "c7960d22",
   "metadata": {},
   "outputs": [
    {
     "name": "stdout",
     "output_type": "stream",
     "text": [
      "Number of words in file : 146\n",
      "Number of Keywords : 14\n"
     ]
    }
   ],
   "source": [
    "with open(r'zenofpython.txt','r') as file:\n",
    "    data = file.read()\n",
    "    lines = data.split()\n",
    "    print(f\"Number of words in file : {len(lines)}\")\n",
    "    count1=0\n",
    "    for a in lines:\n",
    "        for b in s:\n",
    "            if a==b:\n",
    "                count1+=1\n",
    "    data = file.read().upper()\n",
    "    print(f\"Number of Keywords : {count1}\")\n",
    "    "
   ]
  },
  {
   "cell_type": "code",
   "execution_count": 17,
   "id": "aa17939d",
   "metadata": {},
   "outputs": [
    {
     "name": "stdout",
     "output_type": "stream",
     "text": [
      "THE ZEN OF PYTHON, BY TIM PETERS\n",
      "BEAUTIFUL IS BETTER THAN UGLY.\n",
      "EXPLICIT IS BETTER THAN IMPLICIT.\n",
      "SIMPLE IS BETTER THAN COMPLEX.\n",
      "COMPLEX IS BETTER THAN COMPLICATED.\n",
      "FLAT IS BETTER THAN NESTED.\n",
      "SPARSE IS BETTER THAN DENSE.\n",
      "READABILITY COUNTS.\n",
      "SPECIAL CASES AREN'T SPECIAL ENOUGH TO BREAK THE RULES.\n",
      "ALTHOUGH PRACTICALITY BEATS PURITY.\n",
      "ERRORS SHOULD NEVER PASS SILENTLY.\n",
      "UNLESS EXPLICITLY SILENCED.\n",
      "IN THE FACE OF AMBIGUITY, REFUSE THE TEMPTATION TO GUESS.\n",
      "THERE SHOULD BE ONE -- AND PREFERABLY ONLY ONE -- OBVIOUS WAY TO DO IT.\n",
      "ALTHOUGH THAT WAY MAY NOT BE OBVIOUS AT FIRST UNLESS YOU'RE DUTCH.\n",
      "NOW IS BETTER THAN NEVER.\n",
      "ALTHOUGH NEVER IS OFTEN BETTER THAN RIGHT NOW.\n",
      "IF THE IMPLEMENTATION IS HARD TO EXPLAIN, IT'S A BAD IDEA.\n",
      "IF THE IMPLEMENTATION IS EASY TO EXPLAIN, IT MAY BE A GOOD IDEA.\n",
      "NAMESPACES ARE ONE HONKING GREAT IDEA -- LET'S DO MORE OF THOSE!\n"
     ]
    }
   ],
   "source": [
    "with open(r'zenofpython.txt','r') as file:\n",
    "    data=file.read().upper()\n",
    "    print(data)"
   ]
  },
  {
   "cell_type": "code",
   "execution_count": null,
   "id": "235de3eb",
   "metadata": {},
   "outputs": [],
   "source": []
  }
 ],
 "metadata": {
  "kernelspec": {
   "display_name": "Python 3 (ipykernel)",
   "language": "python",
   "name": "python3"
  },
  "language_info": {
   "codemirror_mode": {
    "name": "ipython",
    "version": 3
   },
   "file_extension": ".py",
   "mimetype": "text/x-python",
   "name": "python",
   "nbconvert_exporter": "python",
   "pygments_lexer": "ipython3",
   "version": "3.9.7"
  }
 },
 "nbformat": 4,
 "nbformat_minor": 5
}
