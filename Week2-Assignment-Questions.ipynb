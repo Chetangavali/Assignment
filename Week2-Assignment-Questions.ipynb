{
 "cells": [
  {
   "cell_type": "markdown",
   "id": "70ed1871-3a39-402f-a6eb-276ec353e111",
   "metadata": {},
   "source": [
    "### WEEK-2: Assignment  - Probability Distribution"
   ]
  },
  {
   "cell_type": "markdown",
   "id": "68f282ec-0186-47f9-873a-f24a9fe64d4e",
   "metadata": {},
   "source": [
    "### 1.Calculate Probabilities Using a Binomial Distribution"
   ]
  },
  {
   "cell_type": "markdown",
   "id": "c57ced36-9c22-40c8-b6e3-d47b31e1b60a",
   "metadata": {},
   "source": [
    "Q1.1. Pavan kumar makes 65% of his free-throw attempts. If he shoots 15 free throws, what is the probability that he makes exactly 10?"
   ]
  },
  {
   "cell_type": "code",
   "execution_count": 2,
   "id": "0b456421-93e1-478e-abe6-4a0c18b6379f",
   "metadata": {},
   "outputs": [
    {
     "data": {
      "text/plain": [
       "0.2123386834880357"
      ]
     },
     "execution_count": 2,
     "metadata": {},
     "output_type": "execute_result"
    }
   ],
   "source": [
    "from scipy.stats import binom\n",
    "binom.pmf(k=10,n=15,p=0.65)"
   ]
  },
  {
   "cell_type": "markdown",
   "id": "5662294d-7743-4e5d-9bc4-78c8d9098ccb",
   "metadata": {},
   "source": [
    "Q1.2.Shivam flips a fair coin 6 times. What is the probability that the coin lands on heads 3 times or fewer?"
   ]
  },
  {
   "cell_type": "code",
   "execution_count": null,
   "id": "5fec5852-9a1e-4f2a-8d6d-485c6f3d4ebc",
   "metadata": {},
   "outputs": [
    {
     "data": {
      "text/plain": [
       "0.65625"
      ]
     },
     "execution_count": 3,
     "metadata": {},
     "output_type": "execute_result"
    }
   ],
   "source": [
    "binom.cdf(k=,n=6,p=0.06)"
   ]
  },
  {
   "cell_type": "markdown",
   "id": "2a4c3e03-c031-480d-ac2e-be4d1c5c09ef",
   "metadata": {},
   "source": [
    "Q1.3.It is known that 65% of individuals support a certain law. If 10 individuals are randomly selected, what is the probability that between 3 and 6 of them support the law?"
   ]
  },
  {
   "cell_type": "code",
   "execution_count": 6,
   "id": "7ebdbfc6-12d1-4885-adf2-776109dd45e4",
   "metadata": {},
   "outputs": [
    {
     "ename": "SyntaxError",
     "evalue": "invalid syntax (Temp/ipykernel_27636/1775757870.py, line 1)",
     "output_type": "error",
     "traceback": [
      "\u001b[1;36m  File \u001b[1;32m\"C:\\Users\\cheta\\AppData\\Local\\Temp/ipykernel_27636/1775757870.py\"\u001b[1;36m, line \u001b[1;32m1\u001b[0m\n\u001b[1;33m    a=(0,'1',2,1)  b=('0',1,'2','1')\u001b[0m\n\u001b[1;37m                   ^\u001b[0m\n\u001b[1;31mSyntaxError\u001b[0m\u001b[1;31m:\u001b[0m invalid syntax\n"
     ]
    }
   ],
   "source": []
  },
  {
   "cell_type": "code",
   "execution_count": null,
   "id": "3898527d-aa5c-4672-8bc1-623fa54c123f",
   "metadata": {},
   "outputs": [],
   "source": []
  },
  {
   "cell_type": "code",
   "execution_count": null,
   "id": "c715900e-50df-46ca-acaa-3a120d29ce8b",
   "metadata": {},
   "outputs": [],
   "source": []
  },
  {
   "cell_type": "markdown",
   "id": "34419e4e-a9fe-475b-a1a3-12154b0ab15f",
   "metadata": {},
   "source": [
    "### 2.Calculate Probabilities Using a Poisson Distribution"
   ]
  },
  {
   "cell_type": "markdown",
   "id": "643ce6e9-4464-46a5-b444-7bc60b2f8ceb",
   "metadata": {},
   "source": [
    "Q2.1. A store sells 4 apples per day on average. What is the probability that they will sell 6 apples on a given day? "
   ]
  },
  {
   "cell_type": "code",
   "execution_count": null,
   "id": "8d9f9c42-aa08-4510-a587-c0c0d1eca583",
   "metadata": {},
   "outputs": [],
   "source": []
  },
  {
   "cell_type": "markdown",
   "id": "58b05cc8-7e0e-430f-8b8d-d53b44a9223f",
   "metadata": {},
   "source": [
    "Q2.2. A certain store sells seven footballs per day on average. What is the probability that this store sells four or less footballs in a given day?"
   ]
  },
  {
   "cell_type": "code",
   "execution_count": null,
   "id": "9b95b45e-b93b-4040-a160-47ad34dd2a26",
   "metadata": {},
   "outputs": [],
   "source": []
  },
  {
   "cell_type": "markdown",
   "id": "1741b3e1-18ec-4df8-98c1-3d0103c96108",
   "metadata": {},
   "source": [
    "Q2.3. A certain store sells 15 cans of tuna per day on average. What is the probability that this store sells more than 20 cans of tuna in a given day?"
   ]
  },
  {
   "cell_type": "code",
   "execution_count": null,
   "id": "1ffcff6e-142b-49c5-997d-e23f7a6a874d",
   "metadata": {},
   "outputs": [],
   "source": []
  },
  {
   "cell_type": "markdown",
   "id": "3ca841e9-266d-4a18-ba21-243abcd15fbc",
   "metadata": {},
   "source": [
    "### 3.Calculate Probabilities Using a Uniform Distribution"
   ]
  },
  {
   "cell_type": "markdown",
   "id": "f4daacf9-0fa1-4f5c-a198-55efc586fd5f",
   "metadata": {},
   "source": [
    "Q3.1. Suppose a bus shows up at a bus stop every 20 minutes. If you arrive at the bus stop, what is the probability that the bus will show up in 8 minutes or less?"
   ]
  },
  {
   "cell_type": "code",
   "execution_count": null,
   "id": "420a8ccb-b926-45e3-8978-b331f1a29cf4",
   "metadata": {},
   "outputs": [],
   "source": []
  },
  {
   "cell_type": "markdown",
   "id": "bf3bbe47-2445-4c7c-ba6e-1a6ef4e4e138",
   "metadata": {},
   "source": [
    "Q3.2.The weight of a certain species of frog is uniformly distributed between 15 and 25 grams. If you randomly select a frog, what is the probability that the frog weighs between 17 and 19 grams?"
   ]
  },
  {
   "cell_type": "code",
   "execution_count": null,
   "id": "f1dc1e10-ec3d-4099-8d4e-572f0f3e992e",
   "metadata": {},
   "outputs": [],
   "source": []
  },
  {
   "cell_type": "markdown",
   "id": "3df229d9-823c-49e6-ba78-091f6e815940",
   "metadata": {},
   "source": [
    "Q3.3.The length of an NBA game is uniformly distributed between 120 and 170 minutes. What is the probability that a randomly selected NBA game lasts more than 150 minutes?"
   ]
  },
  {
   "cell_type": "code",
   "execution_count": null,
   "id": "648f4921-6846-499e-8d79-fd7454cc60eb",
   "metadata": {},
   "outputs": [],
   "source": []
  },
  {
   "cell_type": "markdown",
   "id": "fa7fa91c-254f-42c1-9e5a-a27392cdeded",
   "metadata": {},
   "source": [
    "### 4.Calculate Probabilities Using a Normal Distribution"
   ]
  },
  {
   "cell_type": "markdown",
   "id": "d6659416-4aea-4185-993a-b5e84aee7435",
   "metadata": {},
   "source": [
    "Q4.1.A radar unit is used to measure speeds of cars on a motorway. The speeds are normally distributed with a mean of 90 km/hr and a standard deviation of 10 km/hr. What is the probability that a car picked at random is travelling at more than 100 km/hr?"
   ]
  },
  {
   "cell_type": "code",
   "execution_count": null,
   "id": "0737e299-c3ea-49d4-bb23-27aeef12fe25",
   "metadata": {},
   "outputs": [],
   "source": []
  },
  {
   "cell_type": "markdown",
   "id": "4f2af1e3-08b1-4596-88a9-7a29be6f64cd",
   "metadata": {},
   "source": [
    "Q4.2.For a certain type of computers, the length of time bewteen charges of the battery is normally distributed with a mean of 50 hours and a standard deviation of 15 hours. John owns one of these computers and wants to know the probability that the length of time will be between 50 and 70 hours."
   ]
  },
  {
   "cell_type": "code",
   "execution_count": null,
   "id": "b3486716-2ae4-45c3-afcd-fe7add29824d",
   "metadata": {},
   "outputs": [],
   "source": []
  },
  {
   "cell_type": "markdown",
   "id": "bfd4157b-c813-4f40-8e2d-bd51c646fc15",
   "metadata": {},
   "source": [
    "\n",
    "Q4.3.Entry to a certain University is determined by a national test. The scores on this test are normally distributed with a mean of 500 and a standard deviation of 100. Tom wants to be admitted to this university and he knows that he must score better than at least 70% of the students who took the test. Tom takes the test and scores 585. Will he be admitted to this university?"
   ]
  },
  {
   "cell_type": "code",
   "execution_count": null,
   "id": "172df528-b3f6-45a5-a3b6-37dba6d2642f",
   "metadata": {},
   "outputs": [],
   "source": []
  }
 ],
 "metadata": {
  "kernelspec": {
   "display_name": "Python 3 (ipykernel)",
   "language": "python",
   "name": "python3"
  },
  "language_info": {
   "codemirror_mode": {
    "name": "ipython",
    "version": 3
   },
   "file_extension": ".py",
   "mimetype": "text/x-python",
   "name": "python",
   "nbconvert_exporter": "python",
   "pygments_lexer": "ipython3",
   "version": "3.9.7"
  }
 },
 "nbformat": 4,
 "nbformat_minor": 5
}
